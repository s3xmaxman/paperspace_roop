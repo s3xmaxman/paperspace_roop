{
 "cells": [
  {
   "cell_type": "code",
   "execution_count": null,
   "id": "f4d300d5-957a-4aa6-a26d-fb975272a977",
   "metadata": {},
   "outputs": [],
   "source": [
    "#インストール関連\n",
    "!pip install basicsr\n",
    "%cd /notebooks \n",
    "!git clone https://github.com/s0md3v/roop.git\n",
    "%cd /notebooks/roop\n",
    "!pip install onnxruntime-gpu && pip install -r requirements.txt\n",
    "!wget https://huggingface.co/MonsterMMORPG/SECourses/resolve/main/inswapper_128.onnx\n",
    "%cd /notebooks\n",
    "!rm -rf CodeFormer\n",
    "!git clone https://github.com/s3xmaxman/CodeFormer.git\n",
    "\n",
    "%cd CodeFormer\n",
    "!pip install -r requirements.txt\n",
    "!python basicsr/setup.py develop\n",
    "\n",
    "!python scripts/download_pretrained_models.py facelib\n",
    "!python scripts/download_pretrained_models.py CodeFormer\n",
    "\n",
    "from function import *\n",
    "\n",
    "! mkdir download\n",
    "%cd /notebooks/roop\n",
    "!sudo apt-get -y install python3.9-tk\n",
    "!pip install torch==2.0.0+cu118 torchvision==0.15.1+cu118 torchaudio==2.0.1 --index-url https://download.pytorch.org/whl/cu118\n",
    "clear_output()\n",
    "print(\"Done!!!!!\")"
   ]
  },
  {
   "cell_type": "code",
   "execution_count": null,
   "id": "accb35c1-8a99-4d0e-a322-ea5f48f2fe0f",
   "metadata": {},
   "outputs": [],
   "source": [
    "#容量が大きいファイルはGoogle driveの共有リンクから持ってきたほうが早いのでその場合に使用してください\n",
    "#詳しくは下記のURLから\n",
    "#https://docs.paperspace.com/gradient/notebooks/notebook-storage/\n",
    "!gdown \"your_link_id\" -O /notebooks/roop/video.mp4"
   ]
  },
  {
   "cell_type": "code",
   "execution_count": null,
   "id": "56190fef-1a06-4afb-88b4-b770dbf28f24",
   "metadata": {},
   "outputs": [],
   "source": [
    "#Face Swap!!\n",
    "%cd /notebooks/roop\n",
    "face_image = \"face.png\"  \n",
    "video_file = \"video.mp4\"  \n",
    "output_vid = \"output.mp4\"  \n",
    "swap_all_faces = False  \n",
    "keep_fps = True  \n",
    "gpu_threads = 8  \n",
    "\n",
    "keep_fps_opt = \"--keep-fps\" if keep_fps else \"\"\n",
    "\n",
    "!python run.py -f $face_image -t $video_file -o $output_vid --gpu-vendor nvidia --gpu-threads $gpu_threads $keep_fps_opt"
   ]
  },
  {
   "cell_type": "code",
   "execution_count": null,
   "id": "e6da32e2-61a7-4ba9-abee-db154398036d",
   "metadata": {},
   "outputs": [],
   "source": [
    "#動画の読み込み\n",
    "!cp /notebooks/roop/output.mp4 /notebooks/CodeFormer/movie\n",
    "%cd /notebooks/CodeFormer\n",
    "video = 'output.mp4'\n",
    "video_file = '/notebooks/CodeFormer/movie/'+video\n",
    "image_dir='/notebooks/CodeFormer/inputs/frame/'\n",
    "image_file='%s.png'\n",
    "\n",
    "# video_2_images\n",
    "reset_folder('/notebooks/CodeFormer/inputs/frame')\n",
    "fps, i, interval = video_2_images(video_file, image_dir, image_file)\n",
    "\n",
    "#スタートフレーム表示\n",
    "import cv2\n",
    "from matplotlib import pyplot as plt\n",
    "\n",
    "img = cv2.imread('/notebooks/CodeFormer/inputs/frame/000000.png')\n",
    "plt.imshow(cv2.cvtColor(img, cv2.COLOR_BGR2RGB))\n",
    "plt.axis('off')\n",
    "plt.show()\n",
    "\n",
    "\n",
    "# パラメータ表示\n",
    "print('fps = ', fps)\n",
    "print('frames = ', i)\n",
    "print('interval = ', interval)"
   ]
  },
  {
   "cell_type": "code",
   "execution_count": null,
   "id": "3a6e085b-f36f-45f5-9721-fc09989a440c",
   "metadata": {},
   "outputs": [],
   "source": [
    "#CoderFormer\n",
    "from types import FrameType\n",
    "\n",
    "# 設定\n",
    "input_folder = 'inputs/frame'\n",
    "w = 0.85\n",
    "upscaled_flame = reset_folder('results/frame_'+str(w))\n",
    "\n",
    "#フレームの高画質化\n",
    "! python inference_codeformer.py --w $w\\\n",
    "                                   --test_path $input_folder\\\n",
    "                                   --bg_upsampler realesrgan\\\n",
    "                                    --face_upsample\n",
    "# ログ・クリア\n",
    "clear_output()\n",
    "\n",
    "# 動画の作成\n",
    "print('makeing movie...')\n",
    "fps_r = fps/interval\n",
    "file_path = 'results/frame_'+str(w)+'/final_results/%06d.png'\n",
    "! ffmpeg -y -r $fps_r -i $file_path -vcodec libx264 -pix_fmt yuv420p -loglevel error out.mp4\n",
    "\n",
    "# 音声の抽出・付加\n",
    "print('preparation for sound...')\n",
    "! ffmpeg -y -i $video_file -loglevel error sound.mp3\n",
    "! ffmpeg -y -i out.mp4 -i sound.mp3 -loglevel error output.mp4\n",
    "\n",
    "# 動画の再生\n",
    "print('waiting for play movie...')\n",
    "display_mp4('output.mp4')"
   ]
  },
  {
   "cell_type": "code",
   "execution_count": null,
   "id": "4a88441f-9e42-4095-98d2-d9ff77f7f8a7",
   "metadata": {},
   "outputs": [],
   "source": [
    "#pydrive関連のインストール\n",
    "!pip install pydrive\n",
    "!pip install -U httplib2==0.15.0"
   ]
  },
  {
   "cell_type": "code",
   "execution_count": null,
   "id": "e83f6a80-2181-40a2-819f-1d2abaa450f2",
   "metadata": {},
   "outputs": [],
   "source": [
    "#大きなoutput.mp4はダウンロードに時間が掛かるのでgoogle driveにアップロードする\n",
    "#すこし作業が必要になるので下記のサイトをみてください\n",
    "#https://onl.tw/8VFSknG\n",
    "!cp /notebooks/CodeFormer/output.mp4 /notebooks/output.mp4\n",
    "%cd /notebooks\n",
    "from pydrive.auth import GoogleAuth\n",
    "from pydrive.drive import GoogleDrive\n",
    "from oauth2client.service_account import ServiceAccountCredentials\n",
    " \n",
    "JSON_FILE = \"service_account.json\"\n",
    "ID = \"your_service_account_id\"\n",
    " \n",
    "gauth = GoogleAuth()\n",
    "scope = [\"https://www.googleapis.com/auth/drive\"]\n",
    "gauth.credentials = ServiceAccountCredentials.from_json_keyfile_name(JSON_FILE, scope)\n",
    "drive = GoogleDrive(gauth)\n",
    " \n",
    "# ファイルをGoogle Driveにアップロード\n",
    "f = drive.CreateFile({\"parents\": [{\"id\": ID }]})\n",
    "f.SetContentFile('output.mp4')\n",
    "f.Upload()\n",
    "\n",
    "print('ファイルがアップロードされました。')"
   ]
  },
  {
   "cell_type": "code",
   "execution_count": null,
   "id": "50fdee50-e2e6-4949-a467-99b869672da7",
   "metadata": {},
   "outputs": [],
   "source": [
    "#ディレクトリの削除\n",
    "!rm -r /notebooks/roop\n",
    "!rm -r /notebooks/CodeFormer"
   ]
  }
 ],
 "metadata": {
  "kernelspec": {
   "display_name": "Python 3 (ipykernel)",
   "language": "python",
   "name": "python3"
  },
  "language_info": {
   "codemirror_mode": {
    "name": "ipython",
    "version": 3
   },
   "file_extension": ".py",
   "mimetype": "text/x-python",
   "name": "python",
   "nbconvert_exporter": "python",
   "pygments_lexer": "ipython3",
   "version": "3.9.16"
  }
 },
 "nbformat": 4,
 "nbformat_minor": 5
}
